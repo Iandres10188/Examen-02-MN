{
 "cells": [
  {
   "cell_type": "markdown",
   "metadata": {},
   "source": [
    "# Raices"
   ]
  },
  {
   "cell_type": "markdown",
   "metadata": {},
   "source": [
    "\n",
    "$x^5-6*x^4+2*x^3+20*x^2-27*x+10 = 0$"
   ]
  },
  {
   "cell_type": "code",
   "execution_count": 6,
   "metadata": {},
   "outputs": [
    {
     "data": {
      "text/plain": [
       "array([-2.      ,  0.999994,  1.000009,  5.      ,       nan,       nan])"
      ]
     },
     "execution_count": 6,
     "metadata": {},
     "output_type": "execute_result"
    }
   ],
   "source": [
    "import numpy as np\n",
    "from scipy.optimize import fsolve\n",
    "\n",
    "def poly(x):\n",
    "    return x**5 - 6*x**4 + 2*x**3 + 20*x**2 - 27*x + 10\n",
    "\n",
    "estimaciones_iniciales = [-5, -2, 0, 2, 5, 7]\n",
    "\n",
    "raices = fsolve(poly, estimaciones_iniciales)\n",
    "\n",
    "raices_unicas = np.unique(np.round(raices, 6))\n",
    "\n",
    "while len(raices_unicas) < 6:\n",
    "    raices_unicas = np.append(raices_unicas, np.nan)\n",
    "\n",
    "raices_unicas\n"
   ]
  }
 ],
 "metadata": {
  "kernelspec": {
   "display_name": "base",
   "language": "python",
   "name": "python3"
  },
  "language_info": {
   "codemirror_mode": {
    "name": "ipython",
    "version": 3
   },
   "file_extension": ".py",
   "mimetype": "text/x-python",
   "name": "python",
   "nbconvert_exporter": "python",
   "pygments_lexer": "ipython3",
   "version": "3.12.7"
  }
 },
 "nbformat": 4,
 "nbformat_minor": 2
}
