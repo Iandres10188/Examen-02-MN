{
 "cells": [
  {
   "cell_type": "markdown",
   "metadata": {},
   "source": [
    "# Raices"
   ]
  },
  {
   "cell_type": "markdown",
   "metadata": {},
   "source": [
    "\n",
    "$x^5-6*x^4+2*x^3+20*x^2-27*x+10 = 0$"
   ]
  },
  {
   "cell_type": "code",
   "execution_count": 1,
   "metadata": {},
   "outputs": [
    {
     "data": {
      "text/plain": [
       "array([-2.      ,  0.999994,  1.000009,  5.      ,       nan,       nan])"
      ]
     },
     "execution_count": 1,
     "metadata": {},
     "output_type": "execute_result"
    }
   ],
   "source": [
    "import numpy as np\n",
    "from scipy.optimize import fsolve\n",
    "\n",
    "# Definir el polinomio como una función\n",
    "def poly(x):\n",
    "    return x**5 - 6*x**4 + 2*x**3 + 20*x**2 - 27*x + 10\n",
    "\n",
    "# Aproximaciones iniciales para encontrar las raíces\n",
    "initial_guesses = [-5, -2, 0, 2, 5, 7]\n",
    "\n",
    "# Encontrar las raíces usando fsolve\n",
    "roots = fsolve(poly, initial_guesses)\n",
    "\n",
    "# Ordenar las raíces en orden ascendente y eliminar duplicados\n",
    "unique_roots = np.unique(np.round(roots, 6))  # Redondeamos para evitar errores numéricos\n",
    "\n",
    "# Completar con NaN si hay menos de 6 raíces\n",
    "while len(unique_roots) < 6:\n",
    "    unique_roots = np.append(unique_roots, np.nan)\n",
    "\n",
    "# Mostrar las raíces\n",
    "unique_roots\n"
   ]
  }
 ],
 "metadata": {
  "kernelspec": {
   "display_name": "base",
   "language": "python",
   "name": "python3"
  },
  "language_info": {
   "codemirror_mode": {
    "name": "ipython",
    "version": 3
   },
   "file_extension": ".py",
   "mimetype": "text/x-python",
   "name": "python",
   "nbconvert_exporter": "python",
   "pygments_lexer": "ipython3",
   "version": "3.12.7"
  }
 },
 "nbformat": 4,
 "nbformat_minor": 2
}
